{
 "cells": [
  {
   "cell_type": "code",
   "execution_count": 91,
   "metadata": {},
   "outputs": [],
   "source": [
    "import keras\n",
    "from keras.datasets import mnist\n",
    "from keras.models import Sequential\n",
    "from keras.layers import Dense\n",
    "from keras.utils import to_categorical\n",
    "import keras.utils\n",
    "import numpy as np\n",
    "from keras.models import load_model\n",
    "import matplotlib.pyplot as plt"
   ]
  },
  {
   "cell_type": "code",
   "execution_count": 92,
   "metadata": {},
   "outputs": [
    {
     "name": "stdout",
     "output_type": "stream",
     "text": [
      "epochs_100_batchsize_50_sgd_momentum_0.1_784_sigmoid_100_sigmoid_10_softmax_crossentropy\n"
     ]
    }
   ],
   "source": [
    "epochs = 100\n",
    "batch_size = 50\n",
    "filename = \"epochs_\" + str(epochs) +\"_batchsize_\" + str(batch_size) + \"_sgd_momentum_0.1_784_sigmoid_100_sigmoid_10_softmax_crossentropy\"\n",
    "print (filename)"
   ]
  },
  {
   "cell_type": "code",
   "execution_count": 93,
   "metadata": {
    "collapsed": true
   },
   "outputs": [],
   "source": [
    "(x_train, y_train), (x_test, y_test) = mnist.load_data()"
   ]
  },
  {
   "cell_type": "code",
   "execution_count": 94,
   "metadata": {
    "collapsed": true
   },
   "outputs": [],
   "source": [
    "n_train = len(x_train)\n",
    "n_test = len(x_test)\n",
    "\n",
    "l1 = len(x_train[0])\n",
    "l2 = len(x_train[0][0])"
   ]
  },
  {
   "cell_type": "code",
   "execution_count": 95,
   "metadata": {
    "collapsed": true
   },
   "outputs": [],
   "source": [
    "x_train = np.reshape(x_train,(n_train,l1*l2))\n",
    "x_test = np.reshape(x_test,(n_test,l1*l2))\n",
    " \n",
    "y_train = to_categorical(y_train)\n",
    "y_test = to_categorical(y_test)\n",
    "\n",
    "input_dim = len(x_train[0])"
   ]
  },
  {
   "cell_type": "code",
   "execution_count": 96,
   "metadata": {
    "collapsed": true
   },
   "outputs": [],
   "source": [
    "model = Sequential()\n",
    "model.add(Dense(784, input_dim=input_dim, activation = 'sigmoid'))\n",
    "model.add(Dense(100, input_dim=input_dim, activation = 'sigmoid'))\n",
    "model.add(Dense(10, activation='softmax'))\n",
    "\n",
    "#optimizer = keras.optimizers.SGD(lr=0.01, momentum=0.9, decay=1e-6, nesterov=True)\n",
    "#optimizer = keras.optimizers.Adagrad(lr=0.01,decay=0.5,epsilon=0.2)\n",
    "#optimizer = 'adam'\n",
    "optimizer =  keras.optimizers.SGD(lr=0.01, momentum = 0.1)"
   ]
  },
  {
   "cell_type": "code",
   "execution_count": 97,
   "metadata": {
    "collapsed": true
   },
   "outputs": [],
   "source": [
    "model.compile(loss='categorical_crossentropy', optimizer=optimizer, metrics=['accuracy'])"
   ]
  },
  {
   "cell_type": "code",
   "execution_count": 98,
   "metadata": {},
   "outputs": [
    {
     "name": "stdout",
     "output_type": "stream",
     "text": [
      "Train on 48000 samples, validate on 12000 samples\n",
      "Epoch 1/100\n",
      "48000/48000 [==============================] - 18s 371us/step - loss: 1.0964 - acc: 0.7805 - val_loss: 0.5749 - val_acc: 0.8867\n",
      "Epoch 2/100\n",
      "48000/48000 [==============================] - 16s 333us/step - loss: 0.4788 - acc: 0.8941 - val_loss: 0.3772 - val_acc: 0.9107\n",
      "Epoch 3/100\n",
      "48000/48000 [==============================] - 16s 330us/step - loss: 0.3517 - acc: 0.9136 - val_loss: 0.3065 - val_acc: 0.9229\n",
      "Epoch 4/100\n",
      "48000/48000 [==============================] - 16s 328us/step - loss: 0.2926 - acc: 0.9245 - val_loss: 0.2683 - val_acc: 0.9298\n",
      "Epoch 5/100\n",
      "48000/48000 [==============================] - 16s 336us/step - loss: 0.2568 - acc: 0.9331 - val_loss: 0.2433 - val_acc: 0.9350\n",
      "Epoch 6/100\n",
      "48000/48000 [==============================] - 17s 347us/step - loss: 0.2302 - acc: 0.9388 - val_loss: 0.2253 - val_acc: 0.9392\n",
      "Epoch 7/100\n",
      "48000/48000 [==============================] - 18s 381us/step - loss: 0.2076 - acc: 0.9451 - val_loss: 0.2070 - val_acc: 0.9462\n",
      "Epoch 8/100\n",
      "48000/48000 [==============================] - 16s 337us/step - loss: 0.1902 - acc: 0.9499 - val_loss: 0.1962 - val_acc: 0.9477\n",
      "Epoch 9/100\n",
      "48000/48000 [==============================] - 15s 311us/step - loss: 0.1762 - acc: 0.9526 - val_loss: 0.1855 - val_acc: 0.9509\n",
      "Epoch 10/100\n",
      "48000/48000 [==============================] - 16s 340us/step - loss: 0.1628 - acc: 0.9570 - val_loss: 0.1742 - val_acc: 0.9522\n",
      "Epoch 11/100\n",
      "48000/48000 [==============================] - 14s 298us/step - loss: 0.1511 - acc: 0.9599 - val_loss: 0.1687 - val_acc: 0.9550\n",
      "Epoch 12/100\n",
      "48000/48000 [==============================] - 17s 347us/step - loss: 0.1404 - acc: 0.9635 - val_loss: 0.1619 - val_acc: 0.9552\n",
      "Epoch 13/100\n",
      "48000/48000 [==============================] - 15s 320us/step - loss: 0.1322 - acc: 0.9659 - val_loss: 0.1550 - val_acc: 0.9585\n",
      "Epoch 14/100\n",
      "48000/48000 [==============================] - 15s 319us/step - loss: 0.1233 - acc: 0.9689 - val_loss: 0.1490 - val_acc: 0.9587\n",
      "Epoch 15/100\n",
      "48000/48000 [==============================] - 16s 342us/step - loss: 0.1171 - acc: 0.9696 - val_loss: 0.1443 - val_acc: 0.9612\n",
      "Epoch 16/100\n",
      "48000/48000 [==============================] - 17s 350us/step - loss: 0.1091 - acc: 0.9727 - val_loss: 0.1408 - val_acc: 0.9617\n",
      "Epoch 17/100\n",
      "48000/48000 [==============================] - 18s 380us/step - loss: 0.1033 - acc: 0.9744 - val_loss: 0.1388 - val_acc: 0.9615\n",
      "Epoch 18/100\n",
      "48000/48000 [==============================] - 17s 360us/step - loss: 0.0984 - acc: 0.9759 - val_loss: 0.1341 - val_acc: 0.9627\n",
      "Epoch 19/100\n",
      "48000/48000 [==============================] - 20s 427us/step - loss: 0.0926 - acc: 0.9782 - val_loss: 0.1287 - val_acc: 0.9630\n",
      "Epoch 20/100\n",
      "48000/48000 [==============================] - 19s 400us/step - loss: 0.0865 - acc: 0.9794 - val_loss: 0.1282 - val_acc: 0.9648\n",
      "Epoch 21/100\n",
      "48000/48000 [==============================] - 19s 401us/step - loss: 0.0828 - acc: 0.9808 - val_loss: 0.1243 - val_acc: 0.9660\n",
      "Epoch 22/100\n",
      "48000/48000 [==============================] - 17s 360us/step - loss: 0.0772 - acc: 0.9823 - val_loss: 0.1231 - val_acc: 0.9657\n",
      "Epoch 23/100\n",
      "48000/48000 [==============================] - 17s 351us/step - loss: 0.0732 - acc: 0.9836 - val_loss: 0.1211 - val_acc: 0.9657\n",
      "Epoch 24/100\n",
      "48000/48000 [==============================] - 16s 337us/step - loss: 0.0691 - acc: 0.9847 - val_loss: 0.1181 - val_acc: 0.9665\n",
      "Epoch 25/100\n",
      "48000/48000 [==============================] - 16s 343us/step - loss: 0.0656 - acc: 0.9856 - val_loss: 0.1157 - val_acc: 0.9663\n",
      "Epoch 26/100\n",
      "48000/48000 [==============================] - 16s 337us/step - loss: 0.0618 - acc: 0.9872 - val_loss: 0.1155 - val_acc: 0.9660\n",
      "Epoch 27/100\n",
      "48000/48000 [==============================] - 17s 353us/step - loss: 0.0580 - acc: 0.9879 - val_loss: 0.1121 - val_acc: 0.9674\n",
      "Epoch 28/100\n",
      "48000/48000 [==============================] - 16s 334us/step - loss: 0.0541 - acc: 0.9889 - val_loss: 0.1110 - val_acc: 0.9674\n",
      "Epoch 29/100\n",
      "48000/48000 [==============================] - 16s 333us/step - loss: 0.0517 - acc: 0.9896 - val_loss: 0.1095 - val_acc: 0.9694\n",
      "Epoch 30/100\n",
      "48000/48000 [==============================] - 16s 340us/step - loss: 0.0480 - acc: 0.9905 - val_loss: 0.1073 - val_acc: 0.9686\n",
      "Epoch 31/100\n",
      "48000/48000 [==============================] - 16s 337us/step - loss: 0.0450 - acc: 0.9917 - val_loss: 0.1080 - val_acc: 0.9676\n",
      "Epoch 32/100\n",
      "48000/48000 [==============================] - 16s 326us/step - loss: 0.0422 - acc: 0.9920 - val_loss: 0.1066 - val_acc: 0.9684\n",
      "Epoch 33/100\n",
      "48000/48000 [==============================] - 15s 308us/step - loss: 0.0393 - acc: 0.9927 - val_loss: 0.1044 - val_acc: 0.9694\n",
      "Epoch 34/100\n",
      "48000/48000 [==============================] - 15s 313us/step - loss: 0.0371 - acc: 0.9937 - val_loss: 0.1026 - val_acc: 0.9703\n",
      "Epoch 35/100\n",
      "48000/48000 [==============================] - 15s 318us/step - loss: 0.0348 - acc: 0.9941 - val_loss: 0.1015 - val_acc: 0.9697\n",
      "Epoch 36/100\n",
      "48000/48000 [==============================] - 15s 316us/step - loss: 0.0324 - acc: 0.9950 - val_loss: 0.1019 - val_acc: 0.9708\n",
      "Epoch 37/100\n",
      "48000/48000 [==============================] - 17s 353us/step - loss: 0.0303 - acc: 0.9953 - val_loss: 0.1013 - val_acc: 0.9691\n",
      "Epoch 38/100\n",
      "48000/48000 [==============================] - 20s 420us/step - loss: 0.0277 - acc: 0.9959 - val_loss: 0.1000 - val_acc: 0.9706\n",
      "Epoch 39/100\n",
      "48000/48000 [==============================] - 17s 349us/step - loss: 0.0257 - acc: 0.9964 - val_loss: 0.0999 - val_acc: 0.9700\n",
      "Epoch 40/100\n",
      "48000/48000 [==============================] - 16s 332us/step - loss: 0.0240 - acc: 0.9967 - val_loss: 0.0991 - val_acc: 0.9711\n",
      "Epoch 41/100\n",
      "48000/48000 [==============================] - 16s 330us/step - loss: 0.0222 - acc: 0.9969 - val_loss: 0.0987 - val_acc: 0.9698\n",
      "Epoch 42/100\n",
      "48000/48000 [==============================] - 18s 369us/step - loss: 0.0205 - acc: 0.9974 - val_loss: 0.0983 - val_acc: 0.9704\n",
      "Epoch 43/100\n",
      "48000/48000 [==============================] - 14s 300us/step - loss: 0.0188 - acc: 0.9977 - val_loss: 0.0979 - val_acc: 0.9710\n",
      "Epoch 44/100\n",
      "48000/48000 [==============================] - 15s 320us/step - loss: 0.0174 - acc: 0.9980 - val_loss: 0.0977 - val_acc: 0.9704\n",
      "Epoch 45/100\n",
      "48000/48000 [==============================] - 19s 388us/step - loss: 0.0162 - acc: 0.9981 - val_loss: 0.0968 - val_acc: 0.9709\n",
      "Epoch 46/100\n",
      "48000/48000 [==============================] - 16s 324us/step - loss: 0.0154 - acc: 0.9981 - val_loss: 0.0973 - val_acc: 0.9715\n",
      "Epoch 47/100\n",
      "48000/48000 [==============================] - 14s 297us/step - loss: 0.0145 - acc: 0.9983 - val_loss: 0.0972 - val_acc: 0.9708\n",
      "Epoch 48/100\n",
      "48000/48000 [==============================] - 14s 299us/step - loss: 0.0136 - acc: 0.9985 - val_loss: 0.0969 - val_acc: 0.9707\n",
      "Epoch 49/100\n",
      "48000/48000 [==============================] - 14s 298us/step - loss: 0.0128 - acc: 0.9985 - val_loss: 0.0970 - val_acc: 0.9708\n",
      "Epoch 50/100\n",
      "48000/48000 [==============================] - 14s 297us/step - loss: 0.0123 - acc: 0.9986 - val_loss: 0.0965 - val_acc: 0.9707\n",
      "Epoch 51/100\n",
      "48000/48000 [==============================] - 14s 297us/step - loss: 0.0117 - acc: 0.9986 - val_loss: 0.0969 - val_acc: 0.9713\n",
      "Epoch 52/100\n",
      "48000/48000 [==============================] - 15s 306us/step - loss: 0.0112 - acc: 0.9988 - val_loss: 0.0964 - val_acc: 0.9709\n",
      "Epoch 53/100\n",
      "48000/48000 [==============================] - 15s 314us/step - loss: 0.0107 - acc: 0.9989 - val_loss: 0.0968 - val_acc: 0.9708\n",
      "Epoch 54/100\n",
      "48000/48000 [==============================] - 14s 300us/step - loss: 0.0103 - acc: 0.9990 - val_loss: 0.0967 - val_acc: 0.9708\n",
      "Epoch 55/100\n",
      "48000/48000 [==============================] - 14s 300us/step - loss: 0.0100 - acc: 0.9989 - val_loss: 0.0965 - val_acc: 0.9705\n",
      "Epoch 56/100\n",
      "48000/48000 [==============================] - 15s 305us/step - loss: 0.0097 - acc: 0.9990 - val_loss: 0.0969 - val_acc: 0.9711\n",
      "Epoch 57/100\n",
      "48000/48000 [==============================] - 14s 297us/step - loss: 0.0094 - acc: 0.9990 - val_loss: 0.0968 - val_acc: 0.9708\n",
      "Epoch 58/100\n",
      "48000/48000 [==============================] - 14s 297us/step - loss: 0.0091 - acc: 0.9989 - val_loss: 0.0965 - val_acc: 0.9704\n"
     ]
    },
    {
     "name": "stdout",
     "output_type": "stream",
     "text": [
      "Epoch 59/100\n",
      "48000/48000 [==============================] - 14s 294us/step - loss: 0.0089 - acc: 0.9990 - val_loss: 0.0963 - val_acc: 0.9708\n",
      "Epoch 60/100\n",
      "48000/48000 [==============================] - 14s 293us/step - loss: 0.0086 - acc: 0.9991 - val_loss: 0.0964 - val_acc: 0.9708\n",
      "Epoch 61/100\n",
      "48000/48000 [==============================] - 14s 296us/step - loss: 0.0084 - acc: 0.9990 - val_loss: 0.0966 - val_acc: 0.9711\n",
      "Epoch 62/100\n",
      "48000/48000 [==============================] - 14s 294us/step - loss: 0.0082 - acc: 0.9991 - val_loss: 0.0964 - val_acc: 0.9713\n",
      "Epoch 63/100\n",
      "48000/48000 [==============================] - 14s 293us/step - loss: 0.0080 - acc: 0.9991 - val_loss: 0.0967 - val_acc: 0.9710\n",
      "Epoch 64/100\n",
      "48000/48000 [==============================] - 14s 294us/step - loss: 0.0079 - acc: 0.9991 - val_loss: 0.0964 - val_acc: 0.9711\n",
      "Epoch 65/100\n",
      "48000/48000 [==============================] - 14s 297us/step - loss: 0.0077 - acc: 0.9991 - val_loss: 0.0968 - val_acc: 0.9712\n",
      "Epoch 66/100\n",
      "48000/48000 [==============================] - 14s 294us/step - loss: 0.0075 - acc: 0.9992 - val_loss: 0.0967 - val_acc: 0.9710\n",
      "Epoch 67/100\n",
      "48000/48000 [==============================] - 14s 294us/step - loss: 0.0074 - acc: 0.9992 - val_loss: 0.0969 - val_acc: 0.9714\n",
      "Epoch 68/100\n",
      "48000/48000 [==============================] - 14s 294us/step - loss: 0.0073 - acc: 0.9993 - val_loss: 0.0966 - val_acc: 0.9713\n",
      "Epoch 69/100\n",
      "48000/48000 [==============================] - 14s 297us/step - loss: 0.0071 - acc: 0.9992 - val_loss: 0.0968 - val_acc: 0.9712\n",
      "Epoch 70/100\n",
      "48000/48000 [==============================] - 14s 294us/step - loss: 0.0070 - acc: 0.9993 - val_loss: 0.0967 - val_acc: 0.9716\n",
      "Epoch 71/100\n",
      "48000/48000 [==============================] - 14s 293us/step - loss: 0.0069 - acc: 0.9993 - val_loss: 0.0968 - val_acc: 0.9714\n",
      "Epoch 72/100\n",
      "48000/48000 [==============================] - 14s 294us/step - loss: 0.0067 - acc: 0.9993 - val_loss: 0.0968 - val_acc: 0.9712\n",
      "Epoch 73/100\n",
      "48000/48000 [==============================] - 14s 297us/step - loss: 0.0066 - acc: 0.9993 - val_loss: 0.0969 - val_acc: 0.9711\n",
      "Epoch 74/100\n",
      "48000/48000 [==============================] - 14s 294us/step - loss: 0.0065 - acc: 0.9993 - val_loss: 0.0970 - val_acc: 0.9715\n",
      "Epoch 75/100\n",
      "48000/48000 [==============================] - 14s 296us/step - loss: 0.0064 - acc: 0.9993 - val_loss: 0.0970 - val_acc: 0.9715\n",
      "Epoch 76/100\n",
      "48000/48000 [==============================] - 14s 294us/step - loss: 0.0063 - acc: 0.9993 - val_loss: 0.0970 - val_acc: 0.9710\n",
      "Epoch 77/100\n",
      "48000/48000 [==============================] - 14s 295us/step - loss: 0.0062 - acc: 0.9993 - val_loss: 0.0969 - val_acc: 0.9715\n",
      "Epoch 78/100\n",
      "48000/48000 [==============================] - 14s 296us/step - loss: 0.0061 - acc: 0.9993 - val_loss: 0.0969 - val_acc: 0.9713\n",
      "Epoch 79/100\n",
      "48000/48000 [==============================] - 14s 294us/step - loss: 0.0060 - acc: 0.9993 - val_loss: 0.0970 - val_acc: 0.9714\n",
      "Epoch 80/100\n",
      "48000/48000 [==============================] - 14s 294us/step - loss: 0.0059 - acc: 0.9994 - val_loss: 0.0969 - val_acc: 0.9716\n",
      "Epoch 81/100\n",
      "48000/48000 [==============================] - 14s 294us/step - loss: 0.0058 - acc: 0.9994 - val_loss: 0.0970 - val_acc: 0.9715\n",
      "Epoch 82/100\n",
      "48000/48000 [==============================] - 16s 342us/step - loss: 0.0057 - acc: 0.9994 - val_loss: 0.0971 - val_acc: 0.9713\n",
      "Epoch 83/100\n",
      "48000/48000 [==============================] - 16s 324us/step - loss: 0.0056 - acc: 0.9994 - val_loss: 0.0971 - val_acc: 0.9714\n",
      "Epoch 84/100\n",
      "48000/48000 [==============================] - 14s 294us/step - loss: 0.0056 - acc: 0.9994 - val_loss: 0.0971 - val_acc: 0.9716\n",
      "Epoch 85/100\n",
      "48000/48000 [==============================] - 14s 296us/step - loss: 0.0055 - acc: 0.9994 - val_loss: 0.0971 - val_acc: 0.9716\n",
      "Epoch 86/100\n",
      "48000/48000 [==============================] - 14s 299us/step - loss: 0.0054 - acc: 0.9994 - val_loss: 0.0971 - val_acc: 0.9717\n",
      "Epoch 87/100\n",
      "48000/48000 [==============================] - 14s 295us/step - loss: 0.0053 - acc: 0.9995 - val_loss: 0.0972 - val_acc: 0.9717\n",
      "Epoch 88/100\n",
      "48000/48000 [==============================] - 14s 295us/step - loss: 0.0053 - acc: 0.9995 - val_loss: 0.0972 - val_acc: 0.9715\n",
      "Epoch 89/100\n",
      "48000/48000 [==============================] - 14s 295us/step - loss: 0.0052 - acc: 0.9995 - val_loss: 0.0973 - val_acc: 0.9717\n",
      "Epoch 90/100\n",
      "48000/48000 [==============================] - 14s 298us/step - loss: 0.0051 - acc: 0.9996 - val_loss: 0.0972 - val_acc: 0.9715\n",
      "Epoch 91/100\n",
      "48000/48000 [==============================] - 14s 298us/step - loss: 0.0051 - acc: 0.9996 - val_loss: 0.0973 - val_acc: 0.9716\n",
      "Epoch 92/100\n",
      "48000/48000 [==============================] - 14s 296us/step - loss: 0.0050 - acc: 0.9996 - val_loss: 0.0972 - val_acc: 0.9715\n",
      "Epoch 93/100\n",
      "48000/48000 [==============================] - 14s 294us/step - loss: 0.0049 - acc: 0.9996 - val_loss: 0.0974 - val_acc: 0.9717\n",
      "Epoch 94/100\n",
      "48000/48000 [==============================] - 14s 298us/step - loss: 0.0049 - acc: 0.9996 - val_loss: 0.0973 - val_acc: 0.9715\n",
      "Epoch 95/100\n",
      "48000/48000 [==============================] - 14s 295us/step - loss: 0.0048 - acc: 0.9996 - val_loss: 0.0974 - val_acc: 0.9714\n",
      "Epoch 96/100\n",
      "48000/48000 [==============================] - 14s 296us/step - loss: 0.0047 - acc: 0.9997 - val_loss: 0.0975 - val_acc: 0.9712\n",
      "Epoch 97/100\n",
      "48000/48000 [==============================] - 14s 295us/step - loss: 0.0047 - acc: 0.9996 - val_loss: 0.0975 - val_acc: 0.9714\n",
      "Epoch 98/100\n",
      "48000/48000 [==============================] - 15s 303us/step - loss: 0.0046 - acc: 0.9997 - val_loss: 0.0975 - val_acc: 0.9715\n",
      "Epoch 99/100\n",
      "48000/48000 [==============================] - 14s 297us/step - loss: 0.0046 - acc: 0.9997 - val_loss: 0.0976 - val_acc: 0.9716\n",
      "Epoch 100/100\n",
      "48000/48000 [==============================] - 14s 295us/step - loss: 0.0045 - acc: 0.9997 - val_loss: 0.0975 - val_acc: 0.9716\n"
     ]
    }
   ],
   "source": [
    "history = model.fit(x_train, y_train, epochs=epochs, batch_size=batch_size,validation_split= 0.2)"
   ]
  },
  {
   "cell_type": "code",
   "execution_count": 99,
   "metadata": {},
   "outputs": [
    {
     "name": "stdout",
     "output_type": "stream",
     "text": [
      "60000/60000 [==============================] - 7s 118us/step\n",
      "\n",
      "acc: 99.41%\n"
     ]
    }
   ],
   "source": [
    "scores = model.evaluate(x_train, y_train)\n",
    "print(\"\\n%s: %.2f%%\" % (model.metrics_names[1], scores[1]*100))"
   ]
  },
  {
   "cell_type": "code",
   "execution_count": 100,
   "metadata": {},
   "outputs": [
    {
     "name": "stdout",
     "output_type": "stream",
     "text": [
      "10000/10000 [==============================] - 1s 119us/step\n",
      "\n",
      "acc: 97.23%\n"
     ]
    }
   ],
   "source": [
    "scores = model.evaluate(x_test, y_test)\n",
    "print(\"\\n%s: %.2f%%\" % (model.metrics_names[1], scores[1]*100))"
   ]
  },
  {
   "cell_type": "code",
   "execution_count": 101,
   "metadata": {
    "collapsed": true
   },
   "outputs": [],
   "source": [
    "model.save(filename)"
   ]
  },
  {
   "cell_type": "code",
   "execution_count": 106,
   "metadata": {},
   "outputs": [
    {
     "data": {
      "image/png": "[encoded data removed]",
      "text/plain": [
       "<matplotlib.figure.Figure at 0x1ea1c7cff98>"
      ]
     },
     "metadata": {},
     "output_type": "display_data"
    }
   ],
   "source": [
    "plt.figure(1)  \n",
    "   \n",
    " # summarize history for accuracy  \n",
    "   \n",
    "plt.subplot(211)  \n",
    "plt.plot(history.history['acc'])  \n",
    "plt.plot(history.history['val_acc'])  \n",
    "plt.title('model accuracy')  \n",
    "plt.ylabel('accuracy')  \n",
    "plt.xlabel('epoch')  \n",
    "#plt.legend(['train', 'test'], loc='upper left')  \n",
    "\n",
    "# summarize history for loss  \n",
    "\n",
    "plt.subplot(212)  \n",
    "plt.plot(history.history['loss'])  \n",
    "plt.plot(history.history['val_loss'])  \n",
    "plt.title('model loss')  \n",
    "plt.ylabel('loss')  \n",
    "plt.xlabel('epoch')  \n",
    "plt.legend(['train', 'test'], loc='upper left') \n",
    "plt.savefig(filename + '.png')\n",
    "plt.show()  "
   ]
  },
  {
   "cell_type": "markdown",
   "metadata": {},
   "source": [
    "###### Loading the Model"
   ]
  },
  {
   "cell_type": "code",
   "execution_count": 103,
   "metadata": {},
   "outputs": [],
   "source": [
    "filename = \"epochs_100_batchsize_50_sgd_momentum_0.1_784_sigmoid_100_sigmoid_10_softmax_crossentropy\"\n",
    "\n",
    "model = load_model(filename)"
   ]
  },
  {
   "cell_type": "code",
   "execution_count": 104,
   "metadata": {},
   "outputs": [
    {
     "name": "stdout",
     "output_type": "stream",
     "text": [
      "10000/10000 [==============================] - 1s 131us/step\n",
      "\n",
      "acc: 97.23%\n"
     ]
    }
   ],
   "source": [
    "scores = model.evaluate(x_test, y_test)\n",
    "print(\"\\n%s: %.2f%%\" % (model.metrics_names[1], scores[1]*100))"
   ]
  }
 ],
 "metadata": {
  "kernelspec": {
   "display_name": "Python 3",
   "language": "python",
   "name": "python3"
  },
  "language_info": {
   "codemirror_mode": {
    "name": "ipython",
    "version": 3
   },
   "file_extension": ".py",
   "mimetype": "text/x-python",
   "name": "python",
   "nbconvert_exporter": "python",
   "pygments_lexer": "ipython3",
   "version": "3.6.4"
  }
 },
 "nbformat": 4,
 "nbformat_minor": 2
}
